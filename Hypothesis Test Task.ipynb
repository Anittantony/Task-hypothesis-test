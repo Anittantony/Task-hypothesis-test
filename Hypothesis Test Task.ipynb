{
 "cells": [
  {
   "cell_type": "markdown",
   "id": "c38ad7c5",
   "metadata": {},
   "source": [
    "# Question 1"
   ]
  },
  {
   "cell_type": "markdown",
   "id": "05d0cb23",
   "metadata": {},
   "source": [
    "#### Suppose a child psychologist says that the average time that working mothers spend talking to their children is at-least 11 minutes per day.\n",
    "#### You want to test\n",
    "#### You conduct a random sample of 1000 working mothers and find they spend an average of 11.5 minutes per day talking with their children.\n",
    "#### Assume prior research suggests the population standard deviation is 2.3 minutes.\n",
    "#### conduct test with a level of significance of alpha=0.05"
   ]
  },
  {
   "cell_type": "markdown",
   "id": "30ff158d",
   "metadata": {},
   "source": [
    "## Solution"
   ]
  },
  {
   "cell_type": "markdown",
   "id": "ff5daa30",
   "metadata": {},
   "source": [
    "### Creating null and alternate hypothesis"
   ]
  },
  {
   "cell_type": "markdown",
   "id": "9a7bb75b",
   "metadata": {},
   "source": [
    "#### Null hypothesis: The average time that working mothers spend talking to their children is at least 11 minutes per day.\n",
    "#### Alternate hypothesis: The average time that working mothers spend talking to their children is less than 11 minutes per day."
   ]
  },
  {
   "cell_type": "markdown",
   "id": "0686192b",
   "metadata": {},
   "source": [
    "### Significance level"
   ]
  },
  {
   "cell_type": "markdown",
   "id": "01054333",
   "metadata": {},
   "source": [
    "#### level of significance (alpha)=0.05\n",
    "#### confidence interval =95%"
   ]
  },
  {
   "cell_type": "code",
   "execution_count": 1,
   "id": "3eeb2aa7",
   "metadata": {},
   "outputs": [
    {
     "name": "stdout",
     "output_type": "stream",
     "text": [
      "0.2173913043478261\n"
     ]
    }
   ],
   "source": [
    "#Here One-tailed z test is used\n",
    "mu = 11\n",
    "x = 11.5\n",
    "std = 2.3\n",
    "z = (x - mu)/std\n",
    "print(z)"
   ]
  },
  {
   "cell_type": "markdown",
   "id": "2a891e6b",
   "metadata": {},
   "source": [
    "### Calculating critical value"
   ]
  },
  {
   "cell_type": "markdown",
   "id": "303b1935",
   "metadata": {},
   "source": [
    "#### alpha = 5% =0.05\n",
    "#### from z table critical value for 0.05 is 1.645"
   ]
  },
  {
   "cell_type": "markdown",
   "id": "c058b081",
   "metadata": {},
   "source": [
    "## Conclusion"
   ]
  },
  {
   "cell_type": "markdown",
   "id": "6387f072",
   "metadata": {},
   "source": [
    "#### z value(0.21739) is less than critical value( 1.645) so we accept the hypothesis\n",
    "#### So, The average time that working mothers spend talking to their children is at least 11 minutes per day.\n"
   ]
  },
  {
   "cell_type": "markdown",
   "id": "0cb7bbda",
   "metadata": {},
   "source": [
    "# Question 2"
   ]
  },
  {
   "cell_type": "markdown",
   "id": "c3a97da3",
   "metadata": {},
   "source": [
    "#### A coffee shop claims that their average wait time for customers is less than 5 minutes.\n",
    "#### To test this claim, a sample of 40 customers is taken, and their wait times are recorded.\n",
    "#### The sample mean wait time is found to be 4.6 minutes with a standard deviation of 0.8 minutes.\n",
    "#### Perform a hypothesis test at a significance level of 0.05 and determine whether there is enough evidence to support the coffee shop's claim.\n",
    "#### Perform the hypothesis testing using correct test statistics and appropriate critical value"
   ]
  },
  {
   "cell_type": "markdown",
   "id": "3e9b836b",
   "metadata": {},
   "source": [
    "## Solution"
   ]
  },
  {
   "cell_type": "markdown",
   "id": "a97f3a43",
   "metadata": {},
   "source": [
    "### Creating null and alternate hypothesis"
   ]
  },
  {
   "cell_type": "markdown",
   "id": "b9523ff9",
   "metadata": {},
   "source": [
    "#### Null hypothesis: The average wait time for customers at the coffee shop is less than 5 minutes.\n",
    "#### Alternative hypothesis: The average wait time for customers at the coffee shop is 5 minutes or more"
   ]
  },
  {
   "cell_type": "markdown",
   "id": "5c777199",
   "metadata": {},
   "source": [
    "### Significance level "
   ]
  },
  {
   "cell_type": "markdown",
   "id": "f79bcdd3",
   "metadata": {},
   "source": [
    "#### level of significance (alpha)=0.05\n",
    "#### confidence interval =95%"
   ]
  },
  {
   "cell_type": "code",
   "execution_count": 2,
   "id": "10d6282e",
   "metadata": {},
   "outputs": [
    {
     "data": {
      "text/plain": [
       "-0.5000000000000004"
      ]
     },
     "execution_count": 2,
     "metadata": {},
     "output_type": "execute_result"
    }
   ],
   "source": [
    "# Here One-tailed z test is used\n",
    "mu = 5\n",
    "x = 4.6\n",
    "std = 0.8\n",
    "z= (x- mu)/ std\n",
    "z"
   ]
  },
  {
   "cell_type": "markdown",
   "id": "9757ae05",
   "metadata": {},
   "source": [
    "### Calculating critical value"
   ]
  },
  {
   "cell_type": "markdown",
   "id": "8480496a",
   "metadata": {},
   "source": [
    "#### alpha = 5% =0.05\n",
    "#### from z table critical value for 0.05 is 1.645"
   ]
  },
  {
   "cell_type": "markdown",
   "id": "dfc76def",
   "metadata": {},
   "source": [
    "### Conclusion"
   ]
  },
  {
   "cell_type": "markdown",
   "id": "7ca4a4f0",
   "metadata": {},
   "source": [
    "#### z value(-0.500) is less than critical value( 1.645) so we accept the hypothesis\n",
    "#### So, The average wait time for customers at the coffee shop is less than 5 minutes.\n"
   ]
  }
 ],
 "metadata": {
  "kernelspec": {
   "display_name": "Python 3 (ipykernel)",
   "language": "python",
   "name": "python3"
  },
  "language_info": {
   "codemirror_mode": {
    "name": "ipython",
    "version": 3
   },
   "file_extension": ".py",
   "mimetype": "text/x-python",
   "name": "python",
   "nbconvert_exporter": "python",
   "pygments_lexer": "ipython3",
   "version": "3.11.1"
  }
 },
 "nbformat": 4,
 "nbformat_minor": 5
}
